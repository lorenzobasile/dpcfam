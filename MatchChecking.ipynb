{
  "nbformat": 4,
  "nbformat_minor": 0,
  "metadata": {
    "kernelspec": {
      "display_name": "Python 3",
      "language": "python",
      "name": "python3"
    },
    "language_info": {
      "codemirror_mode": {
        "name": "ipython",
        "version": 3
      },
      "file_extension": ".py",
      "mimetype": "text/x-python",
      "name": "python",
      "nbconvert_exporter": "python",
      "pygments_lexer": "ipython3",
      "version": "3.8.5"
    },
    "colab": {
      "name": "MatchChecking.ipynb",
      "provenance": []
    }
  },
  "cells": [
    {
      "cell_type": "code",
      "metadata": {
        "id": "8DjoWdx9q4zY"
      },
      "source": [
        "import numpy as np\n",
        "import pandas as pd"
      ],
      "execution_count": null,
      "outputs": []
    },
    {
      "cell_type": "markdown",
      "metadata": {
        "id": "x_rJM68lq4zi"
      },
      "source": [
        "### Reading the file\n",
        "Five attributes are extracted for each domain: protein name, family name, e-value, initial and final position in the alignment."
      ]
    },
    {
      "cell_type": "code",
      "metadata": {
        "id": "UpDvHH1uq4zj"
      },
      "source": [
        "target_names=[]\n",
        "query_names=[]\n",
        "e_values=[]\n",
        "start=[]\n",
        "end=[]\n",
        "filename=\"hits_same_clan.scanned\"\n",
        "with open(filename) as file:\n",
        "    for i, line in enumerate(file):\n",
        "        if i<3:\n",
        "            continue\n",
        "        line=line.split()\n",
        "        target_names.append(line[0])\n",
        "        query_names.append(line[3])\n",
        "        e_values.append(line[6])\n",
        "        start.append(line[17])\n",
        "        end.append(line[18])"
      ],
      "execution_count": null,
      "outputs": []
    },
    {
      "cell_type": "code",
      "metadata": {
        "id": "V4LnzYJoq4zj"
      },
      "source": [
        "target_names=np.array(target_names)\n",
        "query_names=np.array(query_names)\n",
        "e_values=np.array(e_values)\n",
        "start=np.array(start)\n",
        "end=np.array(end)"
      ],
      "execution_count": null,
      "outputs": []
    },
    {
      "cell_type": "markdown",
      "metadata": {
        "id": "x1xKPg4Uq4zk"
      },
      "source": [
        "### DataFrame creation and match definition\n",
        "Two domains match if the size of their intersection is greater than $0.8$ times the size of their union (matching in terms of proteins and families is checked elsewhere, so it is not taken into account here)."
      ]
    },
    {
      "cell_type": "code",
      "metadata": {
        "id": "lCxylr0mq4zk"
      },
      "source": [
        "families=np.unique(query_names)\n",
        "family_index={family: np.where(families==family)[0][0] for family in families}\n",
        "family_sizes=np.zeros_like(families, dtype=np.int32)\n",
        "data={\n",
        "    \"protein\": target_names,\n",
        "    \"family\": query_names,\n",
        "    \"evalue\": e_values,\n",
        "    \"start\": start,\n",
        "    \"end\":end\n",
        "}\n",
        "df=pd.DataFrame(data)\n",
        "def intersection_size(start1, start2, end1, end2):\n",
        "    return len(range(max(start1, start2), min(end1, end2)))\n",
        "def union_size(start1, start2, end1, end2):\n",
        "    return len(range(start1, end1))+len(range(start2, end2))-intersection_size(start1, start2, end1, end2)\n",
        "def match(row1, row2):\n",
        "    start1=int(row1[3])\n",
        "    start2=int(row2[3])\n",
        "    end1=int(row1[4])\n",
        "    end2=int(row2[4])\n",
        "    if intersection_size(start1, start2, end1, end2)/union_size(start1, start2, end1, end2)>0.8:\n",
        "        return True\n",
        "    return False"
      ],
      "execution_count": null,
      "outputs": []
    },
    {
      "cell_type": "markdown",
      "metadata": {
        "id": "LCBESXviq4zk"
      },
      "source": [
        "A matrix initially filled with zeros will keep track of matches in the dataset. For each couple of matching families, the tensor `ev_tensor` keeps track of the minimum e-values in matching proteins."
      ]
    },
    {
      "cell_type": "code",
      "metadata": {
        "id": "DXhUfe1Lq4zl"
      },
      "source": [
        "matches=np.zeros((len(families), len(families)))\n",
        "ev_tensor=np.ones((len(families), len(families), 2))"
      ],
      "execution_count": null,
      "outputs": []
    },
    {
      "cell_type": "markdown",
      "metadata": {
        "id": "_9F70NTgq4zl"
      },
      "source": [
        "### Match checking algorithm\n",
        "In order to make match checking efficient, data are sorted by protein name. In fact, only domains found in the same protein may be matching and it is costly to scan the whole dataset to look for other instances of the same protein.  \n",
        "For each entry $i$, $j$ is initialized to be equal to $i+1$ and then increased by $1$ each time the same protein of position $i$ is found. If there is a match (same protein, different family and overlap>$0.8$) between lines $i$ and $j$, the entry of the matrix corresponding to their families is increased by $1$ and the tensor that stores minimum e-values of this couple of families is updated (if needed).\n",
        "When the $j$-th protein becomes different from the $i$-th, $i$ is increased by $1$.  \n",
        "Moreover, while scanning the dataset, sizes (numbers of representatives) of families are computed.\n"
      ]
    },
    {
      "cell_type": "code",
      "metadata": {
        "id": "KBMrI-Ftq4zm"
      },
      "source": [
        "df=df.sort_values(\"protein\", ignore_index=True)"
      ],
      "execution_count": null,
      "outputs": []
    },
    {
      "cell_type": "code",
      "metadata": {
        "id": "eQoz9xiQq4zm",
        "outputId": "62feb534-ec79-440c-b430-c2b9c5a431d9"
      },
      "source": [
        "i=0\n",
        "n=len(df)\n",
        "data=df.to_numpy()\n",
        "for i in range(n-1):\n",
        "    print(str(i)+'/'+str(n), end='\\r')\n",
        "    ith_row=data[i]\n",
        "    protein=ith_row[0]\n",
        "    family1=ith_row[1]\n",
        "    evalue1=float(ith_row[2])\n",
        "    family_sizes[family_index[family1]]+=1\n",
        "    j=i+1\n",
        "    jth_row=data[j]\n",
        "    while jth_row[0]==protein:\n",
        "        family2=jth_row[1]\n",
        "        evalue2=float(jth_row[2])\n",
        "        if family2!=family1 and match(ith_row, jth_row):\n",
        "            fam1index=family_index[family1]\n",
        "            fam2index=family_index[family2]\n",
        "            matches[fam1index, fam2index]+=1\n",
        "            if min(fam1index, fam2index)==fam1index:\n",
        "                ev_tensor[fam1index, fam2index, 0]=min(evalue1, ev_tensor[fam1index, fam2index, 0])\n",
        "                ev_tensor[fam1index, fam2index, 1]=min(evalue2, ev_tensor[fam1index, fam2index, 1])\n",
        "            else:\n",
        "                ev_tensor[fam2index, fam1index, 0]=min(evalue2, ev_tensor[fam2index, fam1index, 0])\n",
        "                ev_tensor[fam2index, fam1index, 1]=min(evalue1, ev_tensor[fam2index, fam1index, 1])\n",
        "        j+=1\n",
        "        if j==n:\n",
        "            break\n",
        "        jth_row=data[j]"
      ],
      "execution_count": null,
      "outputs": [
        {
          "output_type": "stream",
          "text": [
            "1508767/1508769\r"
          ],
          "name": "stdout"
        }
      ]
    },
    {
      "cell_type": "code",
      "metadata": {
        "id": "kc5xqxjyq4zn",
        "outputId": "0cee6002-eb6c-40f4-8144-7bc1f0cb069f"
      },
      "source": [
        "print(family_sizes)"
      ],
      "execution_count": null,
      "outputs": [
        {
          "output_type": "stream",
          "text": [
            "[ 12508    614    366  22306  34873   1204    392  67600    646    165\n",
            "    198    545   1649  27480   4013 125899    394  11770    796   2684\n",
            "  45075   1305   1116   9505  63477   3784    148   7550    695 265255\n",
            "  12822   3105   2661   6997   1330    299   1929  17132   6211    932\n",
            "  24684   3358  23124    382   2586   2095    144   9741   1116  27028\n",
            "   1337  67564  15440    388   1223  23381   9242   7874   2135    360\n",
            "   3043   1186  87846   1842    390    959    944  76214    363  11568\n",
            "  17812  35921 202030   1101    859   1185  74319    345    209]\n"
          ],
          "name": "stdout"
        }
      ]
    },
    {
      "cell_type": "markdown",
      "metadata": {
        "id": "cy0cuExgq4zo"
      },
      "source": [
        "The final matrix has to be symmetrical, but the insertion of $i,j$-th element has been made partly on $i,j$ itself and partly on $j,i$, so the two values have to be summed.  \n",
        "In addition, values should be rescaled by a factor that keeps track of the number of possible matches, at the moment set to the minimum size of families $i$ and $j$."
      ]
    },
    {
      "cell_type": "code",
      "metadata": {
        "id": "deOzv3gfq4zo"
      },
      "source": [
        "normalized_matrix=np.zeros_like(matches)\n",
        "for i in range(len(families)):\n",
        "    for j in range(i,len(families)):\n",
        "        matches[i, j]+=matches[j, i]\n",
        "        normalized_matrix[i, j]/=min(family_sizes[i], family_sizes[j])\n",
        "        matches[j, i]=matches[i, j]\n",
        "        normalized_matrix[j,i]=normalized_matrix[i,j]"
      ],
      "execution_count": null,
      "outputs": []
    },
    {
      "cell_type": "markdown",
      "metadata": {
        "id": "D_Y_qvyqq4zp"
      },
      "source": [
        "### Match elimination\n",
        "\n",
        "Families $0$ and $1$ have $2$ matches, with minimal evalues set respectively to $0.01$ and $0.0016$."
      ]
    },
    {
      "cell_type": "code",
      "metadata": {
        "id": "FRwE5-fcq4zp",
        "outputId": "9b4a1f64-6d21-4668-899f-e9a99f58c01e"
      },
      "source": [
        "print(matches[0,1])\n",
        "print(families[0], families[1])\n",
        "print(ev_tensor[0,1])"
      ],
      "execution_count": null,
      "outputs": [
        {
          "output_type": "stream",
          "text": [
            "2.0\n",
            "MC10877_cdhit.fasta MC118196_cdhit.fasta\n",
            "[0.01   0.0016]\n"
          ],
          "name": "stdout"
        }
      ]
    },
    {
      "cell_type": "markdown",
      "metadata": {
        "id": "r8LHTkwfq4zp"
      },
      "source": [
        "`ev_tensor` stores the minima for matches between two families: then the maximum of these two values is taken for the corresponding family as a cutoff level. However, since matches may happen between multiple families, pairwise comparison is not sufficient. The threshold for a certain family is set to the minimum threshold required by pairwise comparison between families."
      ]
    },
    {
      "cell_type": "code",
      "metadata": {
        "id": "F7ZC3pYoq4zp",
        "outputId": "acd26137-46aa-4a23-b581-2848bb990fc8"
      },
      "source": [
        "cutoffs=np.ones_like(families, dtype=np.float64)\n",
        "for i in range(len(families)):\n",
        "    for j in range(i,len(families)):\n",
        "        if np.argmax(ev_tensor[i,j])==0:\n",
        "            cutoffs[i]=min(cutoffs[i], ev_tensor[i,j,0])\n",
        "        else:\n",
        "            cutoffs[j]=min(cutoffs[j], ev_tensor[i,j,1])\n",
        "print(cutoffs)"
      ],
      "execution_count": null,
      "outputs": [
        {
          "output_type": "stream",
          "text": [
            "[2.2e-022 8.7e-012 1.5e-050 1.1e-097 3.5e-135 2.0e-009 7.6e-009 2.2e-107\n",
            " 1.8e-006 1.0e+000 1.0e+000 3.0e-081 1.0e+000 9.9e-071 5.2e-023 7.6e-287\n",
            " 2.1e-014 2.3e-040 3.2e-006 7.1e-023 1.8e-066 8.6e-010 1.0e-004 2.3e-041\n",
            " 0.0e+000 1.3e-039 1.0e+000 1.7e-069 5.0e-008 0.0e+000 1.1e-030 1.0e-014\n",
            " 3.5e-021 1.5e-080 8.2e-018 1.0e+000 1.9e-016 9.1e-055 8.2e-007 1.0e+000\n",
            " 6.8e-073 1.5e-051 8.4e-064 1.0e+000 1.6e-039 5.1e-029 1.0e+000 1.1e-046\n",
            " 6.9e-033 5.6e-119 2.5e-012 9.4e-222 1.0e-041 1.8e-002 1.5e-019 8.6e-058\n",
            " 2.5e-030 5.0e-063 7.9e-040 1.8e-022 2.8e-021 7.5e-042 1.0e-197 8.1e-036\n",
            " 1.2e-026 1.3e-016 4.4e-061 2.4e-101 1.0e+000 1.3e-055 1.0e-074 9.8e-084\n",
            " 8.4e-011 1.0e+000 1.0e+000 3.3e-015 3.0e-167 1.0e+000 1.0e+000]\n"
          ],
          "name": "stdout"
        }
      ]
    },
    {
      "cell_type": "code",
      "metadata": {
        "id": "pcalQo7eq4zq"
      },
      "source": [
        "df2=df"
      ],
      "execution_count": null,
      "outputs": []
    },
    {
      "cell_type": "markdown",
      "metadata": {
        "id": "TeQxoM5Sq4zq"
      },
      "source": [
        "Here we are deleting the datapoints belonging to a certain family with e-value lower than the threshold value."
      ]
    },
    {
      "cell_type": "code",
      "metadata": {
        "id": "jKrPXG1tq4zq"
      },
      "source": [
        "for family in families:\n",
        "    df2=df2.loc[(df2['family'] != family) | (df2['evalue'].apply(lambda x: float(x)) < cutoffs[family_index[family]])]"
      ],
      "execution_count": null,
      "outputs": []
    },
    {
      "cell_type": "code",
      "metadata": {
        "id": "j6H0cRSoq4zr",
        "outputId": "18a2c782-2b3a-4ee2-ee61-ccb35d96efb1"
      },
      "source": [
        "print(\"Size of dataset without matches: \", len(df2))\n",
        "print(\"Size of the original dataset: \", len(df))"
      ],
      "execution_count": null,
      "outputs": [
        {
          "output_type": "stream",
          "text": [
            "Size of dataset without matches:  175151\n",
            "Size of the original dataset:  1508769\n"
          ],
          "name": "stdout"
        }
      ]
    },
    {
      "cell_type": "code",
      "metadata": {
        "id": "hyPI393Aq4zr"
      },
      "source": [
        "new_matches=np.zeros((len(families), len(families)))"
      ],
      "execution_count": null,
      "outputs": []
    },
    {
      "cell_type": "code",
      "metadata": {
        "id": "gnizAtpZq4zr"
      },
      "source": [
        "df2=df2.sort_values(\"protein\", ignore_index=True)"
      ],
      "execution_count": null,
      "outputs": []
    },
    {
      "cell_type": "markdown",
      "metadata": {
        "id": "cK3xwKPbq4zr"
      },
      "source": [
        "Match checking on the new dataset to make sure there are no matches."
      ]
    },
    {
      "cell_type": "code",
      "metadata": {
        "id": "hYnZlhLxq4zs",
        "outputId": "8a967e0c-6695-4c54-d491-374edb38d4fd"
      },
      "source": [
        "i=0\n",
        "n=len(df2)\n",
        "data=df2.to_numpy()\n",
        "for i in range(n-1):\n",
        "    print(str(i)+'/'+str(n), end='\\r')\n",
        "    ith_row=data[i]\n",
        "    protein=ith_row[0]\n",
        "    family1=ith_row[1]\n",
        "    evalue1=float(ith_row[2])\n",
        "    family_sizes[family_index[family1]]+=1\n",
        "    j=i+1\n",
        "    jth_row=data[j]\n",
        "    while jth_row[0]==protein:\n",
        "        family2=jth_row[1]\n",
        "        evalue2=float(jth_row[2])\n",
        "        if family2!=family1 and match(ith_row, jth_row):\n",
        "            fam1index=family_index[family1]\n",
        "            fam2index=family_index[family2]\n",
        "            print(ith_row,fam1index, jth_row, fam2index)\n",
        "            new_matches[fam1index, fam2index]+=1\n",
        "        j+=1\n",
        "        if j==n:\n",
        "            break\n",
        "        jth_row=data[j]"
      ],
      "execution_count": null,
      "outputs": [
        {
          "output_type": "stream",
          "text": [
            "175149/175151\r"
          ],
          "name": "stdout"
        }
      ]
    },
    {
      "cell_type": "code",
      "metadata": {
        "id": "B0EQHCy0q4zs",
        "outputId": "7c513b92-025d-4c06-a603-377244666912"
      },
      "source": [
        "print(\"Matches in new dataset: \", np.sum(new_matches))\n",
        "print(\"Matches in original dataset: \", np.sum(np.triu(matches)))"
      ],
      "execution_count": null,
      "outputs": [
        {
          "output_type": "stream",
          "text": [
            "Matches in new dataset:  0.0\n",
            "Matches in original dataset:  830542.0\n"
          ],
          "name": "stdout"
        }
      ]
    },
    {
      "cell_type": "code",
      "metadata": {
        "id": "j8GCzdHXq4zt"
      },
      "source": [
        ""
      ],
      "execution_count": null,
      "outputs": []
    }
  ]
}